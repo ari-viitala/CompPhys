{
 "cells": [
  {
   "cell_type": "markdown",
   "metadata": {},
   "source": [
    "# Computational Physics - PHYS-E0412\n",
    "## Homework Week 1\n",
    "### Ari Viitala 432568"
   ]
  },
  {
   "cell_type": "code",
   "execution_count": 9,
   "metadata": {},
   "outputs": [],
   "source": [
    "#importing libraries \n",
    "import numpy as np\n",
    "import matplotlib.pyplot as plt"
   ]
  },
  {
   "cell_type": "markdown",
   "metadata": {},
   "source": [
    "### (i) Simulating value for D"
   ]
  },
  {
   "cell_type": "markdown",
   "metadata": {},
   "source": [
    "#### Function for simulating value for D for a certain amount of steps in the walk"
   ]
  },
  {
   "cell_type": "code",
   "execution_count": 40,
   "metadata": {},
   "outputs": [],
   "source": [
    "def D(steps):\n",
    "    #Numpy array for storing the x-values of the walk\n",
    "    x = np.zeros(steps)\n",
    "    for i in range(1, steps):\n",
    "        #Drawing step lengths from uniform distribution [-1, 1]\n",
    "        x[i] = x[i - 1] + (np.random.rand() - 0.5) * 2\n",
    "    \n",
    "    #Calculating value for D from the variance within the walk\n",
    "    D = (np.mean(x**2) - np.mean(x)**2) / (steps * 2)\n",
    "    return D"
   ]
  },
  {
   "cell_type": "markdown",
   "metadata": {},
   "source": [
    "#### Now if we simulate 100 values for D for walks of length 10000 and take the mean we can get an approximation for the value"
   ]
  },
  {
   "cell_type": "code",
   "execution_count": 24,
   "metadata": {},
   "outputs": [
    {
     "data": {
      "text/plain": [
       "0.025698484434079388"
      ]
     },
     "execution_count": 24,
     "metadata": {},
     "output_type": "execute_result"
    }
   ],
   "source": [
    "#steps in walk\n",
    "steps = 10000\n",
    "\n",
    "#amount of D values caculated\n",
    "d_count = 100\n",
    "\n",
    "D_sum = 0\n",
    "for i in range(0, d_count):\n",
    "    D_sum += D(steps)\n",
    "\n",
    "D_sum / d_count"
   ]
  },
  {
   "cell_type": "markdown",
   "metadata": {},
   "source": [
    "#### The value for D seems to be about 0.026."
   ]
  },
  {
   "cell_type": "markdown",
   "metadata": {},
   "source": [
    "### (ii) Distributution of D\n",
    "#### Simulating D values and storing them in an array"
   ]
  },
  {
   "cell_type": "code",
   "execution_count": 27,
   "metadata": {},
   "outputs": [],
   "source": [
    "#increasing D count for accuracy\n",
    "steps = 10000\n",
    "d_count = 1000\n",
    "\n",
    "#Array for D_values\n",
    "Ds = np.zeros(d_count)\n",
    "\n",
    "for i in range(0, d_count):        \n",
    "    Ds[i] = D(steps)"
   ]
  },
  {
   "cell_type": "markdown",
   "metadata": {},
   "source": [
    "#### Plotting a histogram of D values"
   ]
  },
  {
   "cell_type": "code",
   "execution_count": 28,
   "metadata": {},
   "outputs": [
    {
     "data": {
      "image/png": "[encoded data removed]",
      "text/plain": [
       "<Figure size 720x432 with 1 Axes>"
      ]
     },
     "metadata": {},
     "output_type": "display_data"
    }
   ],
   "source": [
    "plt.figure(1, (10,6))\n",
    "plt.hist(Ds, bins = 50)\n",
    "plt.xlabel(\"D\", size = 16)\n",
    "plt.ylabel(\"Count\", size = 16)\n",
    "plt.show()"
   ]
  },
  {
   "cell_type": "code",
   "execution_count": 37,
   "metadata": {},
   "outputs": [
    {
     "data": {
      "text/plain": [
       "0.02810421548762351"
      ]
     },
     "execution_count": 37,
     "metadata": {},
     "output_type": "execute_result"
    }
   ],
   "source": [
    "avg_D = np.mean(Ds)\n",
    "avg_D"
   ]
  },
  {
   "cell_type": "code",
   "execution_count": 38,
   "metadata": {},
   "outputs": [
    {
     "data": {
      "text/plain": [
       "0.025151082003659286"
      ]
     },
     "execution_count": 38,
     "metadata": {},
     "output_type": "execute_result"
    }
   ],
   "source": [
    "std_D = np.std(Ds)\n",
    "std_D"
   ]
  },
  {
   "cell_type": "code",
   "execution_count": 39,
   "metadata": {},
   "outputs": [
    {
     "data": {
      "text/plain": [
       "0.0"
      ]
     },
     "execution_count": 39,
     "metadata": {},
     "output_type": "execute_result"
    }
   ],
   "source": [
    "confidence = np.std(std_D) / np.sqrt(d_count)\n",
    "confidence"
   ]
  },
  {
   "cell_type": "code",
   "execution_count": null,
   "metadata": {},
   "outputs": [],
   "source": [
    "plt.figure(1, (10,6))\n",
    "plt.hist(Ds, bins = 50)\n",
    "plt.xlabel(\"D\", size = 16)\n",
    "plt.ylabel(\"Count\", size = 16)\n",
    "plt.axvline(\"\")\n",
    "plt.axvline(confidence)\n",
    "plt.show()"
   ]
  }
 ],
 "metadata": {
  "kernelspec": {
   "display_name": "Python 3",
   "language": "python",
   "name": "python3"
  },
  "language_info": {
   "codemirror_mode": {
    "name": "ipython",
    "version": 3
   },
   "file_extension": ".py",
   "mimetype": "text/x-python",
   "name": "python",
   "nbconvert_exporter": "python",
   "pygments_lexer": "ipython3",
   "version": "3.6.5"
  }
 },
 "nbformat": 4,
 "nbformat_minor": 2
}
