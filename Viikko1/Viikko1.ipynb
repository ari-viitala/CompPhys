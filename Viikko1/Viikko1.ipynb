{
 "cells": [
  {
   "cell_type": "markdown",
   "metadata": {},
   "source": [
    "# Computational Physics - PHYS-E0412\n",
    "## Homework Week 1\n",
    "### Ari Viitala 432568"
   ]
  },
  {
   "cell_type": "code",
   "execution_count": 4,
   "metadata": {},
   "outputs": [],
   "source": [
    "#importing libraries \n",
    "import numpy as np\n",
    "import matplotlib.pyplot as plt"
   ]
  },
  {
   "cell_type": "markdown",
   "metadata": {},
   "source": [
    "### (i) Simulating value for D"
   ]
  },
  {
   "cell_type": "markdown",
   "metadata": {},
   "source": [
    "Function for simulating value for D for a certain amount of walks and steps in the walks"
   ]
  },
  {
   "cell_type": "code",
   "execution_count": 5,
   "metadata": {},
   "outputs": [],
   "source": [
    "def D(walks, steps):\n",
    "    #Numpy array for storing the x-values of the walk\n",
    "    x = np.zeros(walks)\n",
    "    for j in range(0, walks):\n",
    "        for i in range(1, steps):\n",
    "            #Drawing step lengths from uniform distribution [-1, 1]\n",
    "            x[j] += (np.random.rand() - 0.5) * 2\n",
    "\n",
    "    #Calculating value for D from the x-values\n",
    "    D = (np.mean(x**2) - np.mean(x)**2) / (steps * 2)\n",
    "    return D"
   ]
  },
  {
   "cell_type": "markdown",
   "metadata": {},
   "source": [
    "Now if we simulate a value for D with 100 walks with 1000 steps we see that the value for D seems to be about 0.162. However, with these parameter values different runs can give rather different results for D."
   ]
  },
  {
   "cell_type": "code",
   "execution_count": 11,
   "metadata": {},
   "outputs": [
    {
     "data": {
      "text/plain": [
       "0.16217869038678795"
      ]
     },
     "execution_count": 11,
     "metadata": {},
     "output_type": "execute_result"
    }
   ],
   "source": [
    "#steps in walk\n",
    "steps = 1000\n",
    "\n",
    "#walks used to calculate D\n",
    "walks = 100\n",
    "\n",
    "D(walks, steps)"
   ]
  },
  {
   "cell_type": "markdown",
   "metadata": {},
   "source": [
    "### (ii) Distributution of D\n",
    "Simulating D values and storing them in an array."
   ]
  },
  {
   "cell_type": "code",
   "execution_count": 117,
   "metadata": {},
   "outputs": [],
   "source": [
    "steps = 1000\n",
    "walks = 100\n",
    "\n",
    "#number of D:s calculated\n",
    "n_D = 1000\n",
    "\n",
    "#Array for D_values\n",
    "Ds = np.zeros(n_D)\n",
    "\n",
    "for i in range(0, n_D):\n",
    "    Ds[i] = D(walks, steps)"
   ]
  },
  {
   "cell_type": "markdown",
   "metadata": {},
   "source": [
    "#### Plotting a histogram of D values"
   ]
  },
  {
   "cell_type": "code",
   "execution_count": 125,
   "metadata": {},
   "outputs": [
    {
     "data": {
      "image/png": "[encoded data removed]",
      "text/plain": [
       "<Figure size 720x432 with 1 Axes>"
      ]
     },
     "metadata": {},
     "output_type": "display_data"
    }
   ],
   "source": [
    "plt.figure(1, (10,6))\n",
    "plt.hist(Ds, bins = 25)\n",
    "plt.xlabel(\"D\", size = 16)\n",
    "plt.ylabel(\"Count\", size = 16)\n",
    "plt.show()"
   ]
  },
  {
   "cell_type": "markdown",
   "metadata": {},
   "source": [
    "### (iii) The mean and the error estimate"
   ]
  },
  {
   "cell_type": "code",
   "execution_count": 126,
   "metadata": {},
   "outputs": [
    {
     "data": {
      "text/plain": [
       "0.16519490958071553"
      ]
     },
     "execution_count": 126,
     "metadata": {},
     "output_type": "execute_result"
    }
   ],
   "source": [
    "avg_D = np.mean(Ds)\n",
    "avg_D"
   ]
  },
  {
   "cell_type": "markdown",
   "metadata": {},
   "source": [
    "Mean for the value of D is about 0.165."
   ]
  },
  {
   "cell_type": "markdown",
   "metadata": {},
   "source": [
    "The error estimate for a Gaussian distribution can be calculated as $$\\epsilon = \\frac{\\sigma}{\\sqrt{N}}$$ where $\\sigma$ is the standard deviation of $D$ and $N$ the number of diffusion coefficients calculated. This gives us the result of $\\epsilon = 0.00073$."
   ]
  },
  {
   "cell_type": "code",
   "execution_count": 127,
   "metadata": {},
   "outputs": [
    {
     "data": {
      "text/plain": [
       "0.023102592139039386"
      ]
     },
     "execution_count": 127,
     "metadata": {},
     "output_type": "execute_result"
    }
   ],
   "source": [
    "std_D = np.std(Ds)\n",
    "std_D"
   ]
  },
  {
   "cell_type": "code",
   "execution_count": 130,
   "metadata": {},
   "outputs": [
    {
     "data": {
      "text/plain": [
       "0.0007305681101326587"
      ]
     },
     "execution_count": 130,
     "metadata": {},
     "output_type": "execute_result"
    }
   ],
   "source": [
    "confidence = std_D / np.sqrt(n_D)\n",
    "confidence"
   ]
  },
  {
   "cell_type": "markdown",
   "metadata": {},
   "source": [
    "### (iiii) Time spent\n",
    "I used about 4 hours for this exercise. I had to do this twice since it was not at all clear what we should be calculating."
   ]
  }
 ],
 "metadata": {
  "kernelspec": {
   "display_name": "Python 3",
   "language": "python",
   "name": "python3"
  },
  "language_info": {
   "codemirror_mode": {
    "name": "ipython",
    "version": 3
   },
   "file_extension": ".py",
   "mimetype": "text/x-python",
   "name": "python",
   "nbconvert_exporter": "python",
   "pygments_lexer": "ipython3",
   "version": "3.5.2"
  }
 },
 "nbformat": 4,
 "nbformat_minor": 2
}
