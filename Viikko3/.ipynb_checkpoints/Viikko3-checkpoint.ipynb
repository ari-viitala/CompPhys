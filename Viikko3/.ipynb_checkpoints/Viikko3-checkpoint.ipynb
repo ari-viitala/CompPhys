{
 "cells": [
  {
   "cell_type": "code",
   "execution_count": 3,
   "metadata": {},
   "outputs": [],
   "source": [
    "import numpy as np\n",
    "import matplotlib.pyplot as plt"
   ]
  },
  {
   "cell_type": "code",
   "execution_count": 4,
   "metadata": {},
   "outputs": [],
   "source": [
    "def g(x):\n",
    "    return np.exp(-x**2)"
   ]
  },
  {
   "cell_type": "code",
   "execution_count": 5,
   "metadata": {},
   "outputs": [],
   "source": [
    "d = 1\n",
    "x = np.array([0,0,0,d,0,0])\n",
    "delta = 5\n",
    "g_now = g(x)\n",
    "g_now\n",
    "mean_fs = 0\n",
    "N = 1000\n",
    "xx = np.zeros((N, 6))\n",
    "accepted = 0\n",
    "xt = x"
   ]
  },
  {
   "cell_type": "code",
   "execution_count": 6,
   "metadata": {},
   "outputs": [
    {
     "name": "stderr",
     "output_type": "stream",
     "text": [
      "/home/ari/anaconda3/lib/python3.6/site-packages/ipykernel_launcher.py:17: RuntimeWarning: divide by zero encountered in double_scalars\n",
      "/home/ari/anaconda3/lib/python3.6/site-packages/ipykernel_launcher.py:5: RuntimeWarning: invalid value encountered in true_divide\n",
      "  \"\"\"\n",
      "/home/ari/anaconda3/lib/python3.6/site-packages/ipykernel_launcher.py:5: RuntimeWarning: invalid value encountered in greater\n",
      "  \"\"\"\n"
     ]
    },
    {
     "name": "stdout",
     "output_type": "stream",
     "text": [
      "494\n",
      "inf\n"
     ]
    },
    {
     "data": {
      "text/plain": [
       "([array([100163., 100718.,  99889., 101135., 101335.,  99610., 100428.,\n",
       "         100876., 100350.,  95496.]),\n",
       "  array([ 98687., 101541., 100119.,  99086.,  99466., 102043., 100116.,\n",
       "          99545., 101031.,  98366.]),\n",
       "  array([100083.,  99662., 100767., 101503., 100814., 101009., 101557.,\n",
       "         101718., 101097.,  91790.]),\n",
       "  array([100029., 100701., 101036., 100329.,  99851., 100855.,  99357.,\n",
       "         100856., 100039.,  96947.]),\n",
       "  array([ 99428.,  99696., 100530., 100013., 100966., 101096., 101760.,\n",
       "         100264., 100696.,  95551.]),\n",
       "  array([101778., 100064., 100287.,  99008.,  99118.,  98947., 100476.,\n",
       "          99273., 100146., 100903.])],\n",
       " array([     0. ,  33396.3,  66792.6, 100188.9, 133585.2, 166981.5,\n",
       "        200377.8, 233774.1, 267170.4, 300566.7, 333963. ]),\n",
       " <a list of 6 Lists of Patches objects>)"
      ]
     },
     "execution_count": 6,
     "metadata": {},
     "output_type": "execute_result"
    },
    {
     "data": {
      "image/png": "[encoded data removed]",
      "text/plain": [
       "<Figure size 432x288 with 1 Axes>"
      ]
     },
     "metadata": {},
     "output_type": "display_data"
    }
   ],
   "source": [
    "for i in range(0, N):\n",
    "    index = np.random.randint(0,6)\n",
    "    xt[index] = x[index] + np.random.random() * delta\n",
    "    g_trial = g(xt)\n",
    "    dirs = g_trial/g_now > np.random.random(6)\n",
    "    for j in dirs:\n",
    "        if j:\n",
    "            x = xt\n",
    "            g_now = g_trial\n",
    "            accepted = accepted + 1\n",
    "    xx[i,] = x\n",
    "    \n",
    "    lors = np.array(x[:3])\n",
    "    lara = np.array(x[-3:])\n",
    "    \n",
    "    #print(np.linalg.norm(lors - lara))\n",
    "    mean_fs = mean_fs + (1 / np.linalg.norm(x[:3] - x[-3:])) / i\n",
    "\n",
    "print(accepted / N)\n",
    "print(mean_fs)\n",
    "plt.hist(xx)"
   ]
  },
  {
   "cell_type": "code",
   "execution_count": 54,
   "metadata": {},
   "outputs": [
    {
     "data": {
      "text/plain": [
       "array([0, 0, 4, 4, 2, 0])"
      ]
     },
     "execution_count": 54,
     "metadata": {},
     "output_type": "execute_result"
    }
   ],
   "source": [
    "xt"
   ]
  },
  {
   "cell_type": "code",
   "execution_count": null,
   "metadata": {},
   "outputs": [],
   "source": []
  }
 ],
 "metadata": {
  "kernelspec": {
   "display_name": "Python 3",
   "language": "python",
   "name": "python3"
  },
  "language_info": {
   "codemirror_mode": {
    "name": "ipython",
    "version": 3
   },
   "file_extension": ".py",
   "mimetype": "text/x-python",
   "name": "python",
   "nbconvert_exporter": "python",
   "pygments_lexer": "ipython3",
   "version": "3.6.5"
  }
 },
 "nbformat": 4,
 "nbformat_minor": 2
}
