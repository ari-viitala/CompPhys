{
 "cells": [
  {
   "cell_type": "code",
   "execution_count": 4,
   "metadata": {},
   "outputs": [],
   "source": [
    "import numpy as np\n",
    "import matplotlib.pyplot as plt"
   ]
  },
  {
   "cell_type": "code",
   "execution_count": 5,
   "metadata": {},
   "outputs": [],
   "source": [
    "def g(x):\n",
    "    return np.exp(-x**2)"
   ]
  },
  {
   "cell_type": "code",
   "execution_count": 6,
   "metadata": {},
   "outputs": [],
   "source": [
    "d = 1\n",
    "x = np.array([0,0,0,d,0,0])\n",
    "delta = 3"
   ]
  },
  {
   "cell_type": "code",
   "execution_count": 252,
   "metadata": {},
   "outputs": [],
   "source": [
    "def metro(x, N, delta, d):\n",
    "    g_now = g(x)\n",
    "    accepted = 0\n",
    "    xt = x\n",
    "    ds = []\n",
    "    for i in range(0, N):\n",
    "        index = np.random.randint(0,6)\n",
    "        xt = x\n",
    "        rng = (np.random.random() - 0.5) * delta\n",
    "        xt[index] += rng\n",
    "        g_trial = g(xt)\n",
    "        if g_trial[index]/g_now[index] > np.random.random():\n",
    "            #print(xt)\n",
    "            x = xt\n",
    "            g_now = g(x)\n",
    "            accepted += + 1\n",
    "\n",
    "        norm = np.linalg.norm(x[:3] - x[-3:] - np.array([d,0,0]))\n",
    "        ds.append(norm)\n",
    "        \n",
    "    \n",
    "    mean_fs = np.array(ds).mean()\n",
    "    acceptance = accepted / (N * 1.0)\n",
    "    d_out = delta * np.log(0.5)/np.log(acceptance)\n",
    "    \n",
    "    return mean_fs, x, d_out, acceptance"
   ]
  },
  {
   "cell_type": "code",
   "execution_count": 253,
   "metadata": {},
   "outputs": [],
   "source": [
    "x = np.array([0,0,0,d,0,0], dtype = np.float)\n",
    "delta = 4"
   ]
  },
  {
   "cell_type": "code",
   "execution_count": 271,
   "metadata": {},
   "outputs": [
    {
     "name": "stdout",
     "output_type": "stream",
     "text": [
      "51.4246255049\n",
      "0.103677450772\n",
      "0.479\n"
     ]
    },
    {
     "name": "stderr",
     "output_type": "stream",
     "text": [
      "/u/70/viitala1/unix/.local/lib/python3.5/site-packages/ipykernel_launcher.py:12: RuntimeWarning: invalid value encountered in double_scalars\n",
      "  if sys.path[0] == '':\n"
     ]
    }
   ],
   "source": [
    "res, x, delta, ac = metro(x, 1000, delta, 0)\n",
    "print(res)\n",
    "print(delta)\n",
    "print(ac)"
   ]
  },
  {
   "cell_type": "code",
   "execution_count": 272,
   "metadata": {},
   "outputs": [
    {
     "name": "stdout",
     "output_type": "stream",
     "text": [
      "Acceptance: 0.523\n",
      "Result: 15.239296678280212\n",
      "Acceptance: 0.513\n",
      "Result: 31.5872831679992\n",
      "Acceptance: 0.431\n",
      "Result: 40.13416170356065\n",
      "Acceptance: 0.367\n",
      "Result: 40.682452199444455\n",
      "Acceptance: 0.437\n",
      "Result: 41.0870492017587\n",
      "Acceptance: 0.467\n",
      "Result: 39.77656458332809\n",
      "Acceptance: 0.443\n",
      "Result: 41.52356228839361\n",
      "Acceptance: 0.48\n",
      "Result: 42.51603176105082\n"
     ]
    },
    {
     "name": "stderr",
     "output_type": "stream",
     "text": [
      "/u/70/viitala1/unix/.local/lib/python3.5/site-packages/ipykernel_launcher.py:12: RuntimeWarning: invalid value encountered in double_scalars\n",
      "  if sys.path[0] == '':\n",
      "/u/70/viitala1/unix/.local/lib/python3.5/site-packages/ipykernel_launcher.py:12: RuntimeWarning: divide by zero encountered in double_scalars\n",
      "  if sys.path[0] == '':\n"
     ]
    },
    {
     "name": "stdout",
     "output_type": "stream",
     "text": [
      "Acceptance: 0.46\n",
      "Result: 43.89050748904892\n",
      "Acceptance: 0.478\n",
      "Result: 43.637522878977\n",
      "Acceptance: 0.497\n",
      "Result: 43.57536353321216\n",
      "Acceptance: 0.497\n",
      "Result: 43.997840644951125\n",
      "Acceptance: 0.488\n",
      "Result: 44.36231394400909\n",
      "Acceptance: 0.514\n",
      "Result: 45.43093272713803\n",
      "Acceptance: 0.511\n",
      "Result: 45.77724402572609\n",
      "Acceptance: 0.473\n",
      "Result: 44.83895028410999\n",
      "Acceptance: 0.489\n",
      "Result: 44.369458477532795\n",
      "Acceptance: 0.529\n",
      "Result: 44.754386819141196\n",
      "Acceptance: 0.495\n",
      "Result: 45.916784711286816\n",
      "Acceptance: 0.517\n",
      "Result: 45.978309470080376\n",
      "Acceptance: 0.536\n",
      "Result: 46.74423552914241\n",
      "Acceptance: 0.467\n",
      "Result: 47.061985235901055\n",
      "Acceptance: 0.558\n",
      "Result: 46.09853562519145\n",
      "Acceptance: 0.485\n",
      "Result: 46.93302535734714\n",
      "Acceptance: 0.487\n",
      "Result: 47.30143385418184\n",
      "Acceptance: 0.472\n",
      "Result: 46.37262619740567\n",
      "Acceptance: 0.508\n",
      "Result: 46.32731716130689\n",
      "Acceptance: 0.529\n",
      "Result: 46.291250207715585\n",
      "Acceptance: 0.477\n",
      "Result: 46.15169988313905\n",
      "Acceptance: 0.497\n",
      "Result: 45.99372328008307\n",
      "Acceptance: 0.453\n",
      "Result: 46.163163504102194\n",
      "Acceptance: 0.509\n",
      "Result: 46.28720144996591\n",
      "Acceptance: 0.536\n",
      "Result: 46.95194570003388\n",
      "Acceptance: 0.476\n",
      "Result: 46.327445847760515\n",
      "Acceptance: 0.478\n",
      "Result: 47.03320512922442\n",
      "Acceptance: 0.499\n",
      "Result: 47.01430989270046\n",
      "Acceptance: 0.477\n",
      "Result: 47.49146081480802\n",
      "Acceptance: 0.507\n",
      "Result: 48.524596068353624\n",
      "Acceptance: 0.492\n",
      "Result: 48.7801731969512\n",
      "Acceptance: 0.482\n",
      "Result: 48.29051526508989\n",
      "Acceptance: 0.495\n",
      "Result: 48.409844491781215\n",
      "Acceptance: 0.535\n",
      "Result: 49.44906338108367\n",
      "Acceptance: 0.477\n",
      "Result: 50.280019680334334\n",
      "Acceptance: 0.504\n",
      "Result: 49.71066867397646\n",
      "Acceptance: 0.513\n",
      "Result: 47.99968209954232\n",
      "Acceptance: 0.5\n",
      "Result: 49.574566165073556\n",
      "Acceptance: 0.493\n",
      "Result: 49.86699559517877\n",
      "Acceptance: 0.488\n",
      "Result: 49.11255783405037\n",
      "Acceptance: 0.49\n",
      "Result: 49.61517306567836\n",
      "Acceptance: 0.508\n",
      "Result: 50.01032313830574\n",
      "Acceptance: 0.488\n",
      "Result: 50.23886025208683\n",
      "Acceptance: 0.492\n",
      "Result: 50.159123607271525\n",
      "Acceptance: 0.526\n",
      "Result: 49.275135655006906\n",
      "Acceptance: 0.515\n",
      "Result: 48.72158997291722\n",
      "Acceptance: 0.531\n",
      "Result: 48.19583164968393\n",
      "Acceptance: 0.477\n",
      "Result: 47.740065978404616\n",
      "Acceptance: 0.513\n",
      "Result: 47.978424018175936\n",
      "Acceptance: 0.474\n",
      "Result: 48.51666556945051\n",
      "Acceptance: 0.503\n",
      "Result: 49.07393091402765\n",
      "Acceptance: 0.496\n",
      "Result: 49.68348386232631\n",
      "Acceptance: 0.49\n",
      "Result: 50.940046593292976\n",
      "Acceptance: 0.532\n",
      "Result: 51.34513732192365\n",
      "Acceptance: 0.502\n",
      "Result: 51.006044715214166\n",
      "Acceptance: 0.529\n",
      "Result: 52.00702846472319\n",
      "Acceptance: 0.472\n",
      "Result: 51.943391795355694\n",
      "Acceptance: 0.509\n",
      "Result: 52.23799372473991\n",
      "Acceptance: 0.511\n",
      "Result: 51.45204481454939\n",
      "Acceptance: 0.483\n",
      "Result: 52.32220087976452\n",
      "Acceptance: 0.473\n",
      "Result: 51.806985448884596\n",
      "Acceptance: 0.491\n",
      "Result: 52.02590201130576\n",
      "Acceptance: 0.523\n",
      "Result: 52.61551229030462\n",
      "Acceptance: 0.518\n",
      "Result: 52.44271829432539\n",
      "Acceptance: 0.455\n",
      "Result: 53.04921642112498\n",
      "Acceptance: 0.531\n",
      "Result: 53.03830039559335\n",
      "Acceptance: 0.504\n",
      "Result: 54.18084099765436\n",
      "Acceptance: 0.494\n",
      "Result: 54.85951960632523\n",
      "Acceptance: 0.519\n",
      "Result: 54.4062352264047\n",
      "Acceptance: 0.47\n",
      "Result: 54.59357901195745\n",
      "Acceptance: 0.502\n",
      "Result: 54.09554860544046\n",
      "Acceptance: 0.509\n",
      "Result: 53.85052774423458\n",
      "Acceptance: 0.461\n",
      "Result: 53.74259399925882\n",
      "Acceptance: 0.484\n",
      "Result: 53.80024426689904\n",
      "Acceptance: 0.481\n",
      "Result: 53.65738537938355\n",
      "Acceptance: 0.55\n",
      "Result: 53.9985761757415\n",
      "Acceptance: 0.467\n",
      "Result: 54.04790650643711\n",
      "Acceptance: 0.504\n",
      "Result: 55.03061471579547\n",
      "Acceptance: 0.479\n",
      "Result: 54.86779160044377\n",
      "Acceptance: 0.512\n",
      "Result: 55.623264203636175\n",
      "Acceptance: 0.527\n",
      "Result: 55.10083338658029\n",
      "Acceptance: 0.517\n",
      "Result: 54.951700582059395\n",
      "Acceptance: 0.5\n",
      "Result: 55.132572190710725\n",
      "Acceptance: 0.497\n",
      "Result: 55.43833253371267\n",
      "Acceptance: 0.516\n",
      "Result: 55.43824968198695\n",
      "Acceptance: 0.461\n",
      "Result: 55.78055823484862\n",
      "Acceptance: 0.476\n",
      "Result: 56.970549135388424\n",
      "Acceptance: 0.51\n",
      "Result: 56.38272163325181\n",
      "Acceptance: 0.48\n",
      "Result: 57.33169283504267\n",
      "Acceptance: 0.487\n",
      "Result: 57.44288710982054\n",
      "Acceptance: 0.528\n",
      "Result: 56.56064824686941\n",
      "Acceptance: 0.518\n",
      "Result: 56.507515664616825\n"
     ]
    }
   ],
   "source": [
    "runs = 100\n",
    "\n",
    "delta = 1\n",
    "d = 0\n",
    "x = np.array([0,0,0,d,0,0], dtype = np.float)\n",
    "N = 1000\n",
    "metro(x, N, delta, d)\n",
    "\n",
    "results = []\n",
    "acceptances = []\n",
    "res, new_x, delta, acceptance = metro(x, N, delta, d)\n",
    "\n",
    "for i in range(0,runs):\n",
    "    res, new_x, delta, acceptance = metro(new_x, N, delta, d)\n",
    "    print(\"Acceptance: {}\".format(acceptance))\n",
    "    print(\"Result: {}\".format(res))\n",
    "    results.append(res)\n",
    "    acceptances.append(acceptance)\n",
    "    res, new_x, delta, acceptance = metro(new_x, N, delta, d)\n",
    "    "
   ]
  },
  {
   "cell_type": "code",
   "execution_count": 159,
   "metadata": {},
   "outputs": [
    {
     "data": {
      "text/plain": [
       "0.79788456080286541"
      ]
     },
     "execution_count": 159,
     "metadata": {},
     "output_type": "execute_result"
    }
   ],
   "source": [
    "np.sqrt(2 / np.pi)"
   ]
  },
  {
   "cell_type": "code",
   "execution_count": 120,
   "metadata": {},
   "outputs": [
    {
     "data": {
      "text/plain": [
       "0.0051062798006334476"
      ]
     },
     "execution_count": 120,
     "metadata": {},
     "output_type": "execute_result"
    }
   ],
   "source": [
    "np.mean(results)"
   ]
  },
  {
   "cell_type": "code",
   "execution_count": 117,
   "metadata": {},
   "outputs": [],
   "source": [
    "del acceptances"
   ]
  },
  {
   "cell_type": "code",
   "execution_count": 160,
   "metadata": {},
   "outputs": [
    {
     "data": {
      "text/plain": [
       "0.00068768373699718683"
      ]
     },
     "execution_count": 160,
     "metadata": {},
     "output_type": "execute_result"
    }
   ],
   "source": [
    "delta"
   ]
  },
  {
   "cell_type": "code",
   "execution_count": null,
   "metadata": {},
   "outputs": [],
   "source": []
  }
 ],
 "metadata": {
  "kernelspec": {
   "display_name": "Python 3",
   "language": "python",
   "name": "python3"
  },
  "language_info": {
   "codemirror_mode": {
    "name": "ipython",
    "version": 3
   },
   "file_extension": ".py",
   "mimetype": "text/x-python",
   "name": "python",
   "nbconvert_exporter": "python",
   "pygments_lexer": "ipython3",
   "version": "3.5.2"
  }
 },
 "nbformat": 4,
 "nbformat_minor": 2
}
