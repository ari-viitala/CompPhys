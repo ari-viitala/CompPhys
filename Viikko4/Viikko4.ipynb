{
 "cells": [
  {
   "cell_type": "markdown",
   "metadata": {},
   "source": [
    "# Computational Physics PHYS-E0412 - Homework 4\n",
    "Ari Viitala \n",
    "432568"
   ]
  },
  {
   "cell_type": "code",
   "execution_count": 1,
   "metadata": {},
   "outputs": [],
   "source": [
    "import numpy as np\n",
    "import matplotlib.pyplot as plt\n",
    "from IPython.display import clear_output, display\n",
    "%matplotlib inline"
   ]
  },
  {
   "cell_type": "code",
   "execution_count": 2,
   "metadata": {},
   "outputs": [],
   "source": [
    "iterations = 100\n",
    "m = []\n",
    "N = 50\n",
    "lat = np.random.randint(0, 2, (N, N)) * 2 - 1\n",
    "p = 0\n",
    "J = np.ones((N,N))\n",
    "sng = np.ones((N,N))\n",
    "\n",
    "for i in range(0, N):\n",
    "    for j in range(0, N):\n",
    "        if np.random.rand() < p:\n",
    "            J[i, j] = -1\n",
    "\n",
    "sng[::2, ::2] = -1\n",
    "sng[1::2, 1::2] = -1\n",
    "\n",
    "T = np.linspace(5, 0.1, iterations)"
   ]
  },
  {
   "cell_type": "code",
   "execution_count": 3,
   "metadata": {},
   "outputs": [],
   "source": [
    "def H(i, j):\n",
    "    u = j - 1 if j - 1 >= 0 else N - 1\n",
    "    d = j + 1 if j + 1 < N else 0\n",
    "    l = i - 1 if i - 1 >= 0 else N - 1\n",
    "    r = i + 1 if i + 1 < N else  0\n",
    "\n",
    "    e = lat[i, u] * J[i, u] + lat[r, j] * J[r, j] + lat[i, d] * J[i, d] + lat[l, j] * J[l, j] \n",
    "\n",
    "    return 2 * lat[i, j] * e"
   ]
  },
  {
   "cell_type": "code",
   "execution_count": 4,
   "metadata": {},
   "outputs": [
    {
     "data": {
      "image/png": "[encoded data removed]",
      "text/plain": [
       "<matplotlib.figure.Figure at 0x2287f3252e8>"
      ]
     },
     "metadata": {},
     "output_type": "display_data"
    }
   ],
   "source": [
    "lat = np.random.randint(0, 2, (N, N)) * 2 - 1\n",
    "m = [] \n",
    "ms = []\n",
    "fig = plt.figure()\n",
    "ax = fig.gca()\n",
    "plt.show()\n",
    "for k in range(0, iterations):\n",
    "    clear_output(wait = True)\n",
    "    #print(k)\n",
    "    ax.imshow(lat)\n",
    "    ax.set_title(T[k])\n",
    "    fig.canvas.draw()\n",
    "    fig.canvas.flush_events()\n",
    "    display(fig)\n",
    "    \n",
    "    for i in range(0, N):\n",
    "        for j in range(0, N):\n",
    "            energy = H(i, j)\n",
    "            lat[i, j] *= -1\n",
    "            de = H(i, j) - energy\n",
    "            if np.random.random() > np.exp(de / T[k]):\n",
    "                lat[i, j] *= -1\n",
    "    m.append(1 / N**2 * abs(np.sum(lat)))\n",
    "    ms.append(1 / N**2 * abs(np.sum(lat * sng)))"
   ]
  },
  {
   "cell_type": "code",
   "execution_count": 5,
   "metadata": {},
   "outputs": [
    {
     "data": {
      "text/plain": [
       "<matplotlib.image.AxesImage at 0x2287f7a3940>"
      ]
     },
     "execution_count": 5,
     "metadata": {},
     "output_type": "execute_result"
    },
    {
     "data": {
      "image/png": "[encoded data removed]",
      "text/plain": [
       "<matplotlib.figure.Figure at 0x2287f2c41d0>"
      ]
     },
     "metadata": {},
     "output_type": "display_data"
    }
   ],
   "source": [
    "plt.imshow(J)"
   ]
  },
  {
   "cell_type": "code",
   "execution_count": 6,
   "metadata": {},
   "outputs": [
    {
     "data": {
      "image/png": "[encoded data removed]",
      "text/plain": [
       "<matplotlib.figure.Figure at 0x2287f2c4a58>"
      ]
     },
     "metadata": {},
     "output_type": "display_data"
    }
   ],
   "source": [
    "plt.figure(1, (8, 6))\n",
    "plt.plot(T,m)\n",
    "plt.plot(T, ms)\n",
    "plt.show()"
   ]
  },
  {
   "cell_type": "code",
   "execution_count": 7,
   "metadata": {},
   "outputs": [],
   "source": [
    "def H2(i, j, J, lat):\n",
    "    u = j - 1 if j - 1 >= 0 else N - 1\n",
    "    d = j + 1 if j + 1 < N else 0\n",
    "    l = i - 1 if i - 1 >= 0 else N - 1\n",
    "    r = i + 1 if i + 1 < N else  0\n",
    "\n",
    "    e = lat[i, u] * J[i, u] + lat[r, j] * J[r, j] + lat[i, d] * J[i, d] + lat[l, j] * J[l, j] \n",
    "\n",
    "    return 2* lat[i, j] * e"
   ]
  },
  {
   "cell_type": "code",
   "execution_count": 31,
   "metadata": {},
   "outputs": [],
   "source": [
    "def anneal(p, N, iters, Th, Tl):\n",
    "    lat = np.ones((N,N))\n",
    "    J = np.ones((N,N))\n",
    "    sng = np.ones((N,N))\n",
    "\n",
    "    for i in range(0, N):\n",
    "        for j in range(0, N):\n",
    "            if np.random.rand() < p:\n",
    "                J[i, j] = -1\n",
    "\n",
    "    sng[::2, ::2] = -1\n",
    "    sng[1::2, 1::2] = -1\n",
    "\n",
    "    T = np.linspace(Th, Tl, iters)\n",
    "    \n",
    "    lat = np.random.randint(0, 2, (N, N)) * 2 - 1\n",
    "    m = np.zeros(iters) \n",
    "    ms = np.zeros(iters)\n",
    "    for k in range(0, iters):\n",
    "        #clear_output(wait = True)\n",
    "        #print(k)\n",
    "\n",
    "        for i in range(0, N):\n",
    "            for j in range(0, N):\n",
    "                energy = H2(i, j, J, lat)\n",
    "                de = -2 * energy\n",
    "                if np.random.random() < np.exp(de / T[k]):\n",
    "                    lat[i, j] *= -1\n",
    "        m[k] = (1 / N**2 * abs(np.sum(lat)))\n",
    "        ms[k] = (1 / N**2 * abs(np.sum(lat * sng)))\n",
    "        \n",
    "    return m, ms, lat"
   ]
  },
  {
   "cell_type": "code",
   "execution_count": 32,
   "metadata": {},
   "outputs": [],
   "source": [
    "m, ms, lat = anneal(1, 50, 200, 5, 0.1)"
   ]
  },
  {
   "cell_type": "code",
   "execution_count": 33,
   "metadata": {},
   "outputs": [
    {
     "data": {
      "text/plain": [
       "<matplotlib.image.AxesImage at 0x2287fc83f60>"
      ]
     },
     "execution_count": 33,
     "metadata": {},
     "output_type": "execute_result"
    },
    {
     "data": {
      "image/png": "[encoded data removed]",
      "text/plain": [
       "<matplotlib.figure.Figure at 0x2287fc5fe10>"
      ]
     },
     "metadata": {},
     "output_type": "display_data"
    }
   ],
   "source": [
    "plt.imshow(lat)"
   ]
  },
  {
   "cell_type": "code",
   "execution_count": 34,
   "metadata": {},
   "outputs": [
    {
     "data": {
      "text/plain": [
       "<matplotlib.lines.Line2D at 0x2287f7e3518>"
      ]
     },
     "execution_count": 34,
     "metadata": {},
     "output_type": "execute_result"
    },
    {
     "data": {
      "image/png": "[encoded data removed]",
      "text/plain": [
       "<matplotlib.figure.Figure at 0x2287fc7bd30>"
      ]
     },
     "metadata": {},
     "output_type": "display_data"
    }
   ],
   "source": [
    "T = np.linspace(5, 0.1, 200)\n",
    "plt.plot(T,m)\n",
    "plt.plot(T,ms)\n",
    "plt.axvline(2.27)"
   ]
  },
  {
   "cell_type": "code",
   "execution_count": 26,
   "metadata": {},
   "outputs": [
    {
     "name": "stdout",
     "output_type": "stream",
     "text": [
      "P: 0.2\n",
      "Magnetization: 0.0578933333333\n",
      "Swagger: 0.0133066666667\n"
     ]
    }
   ],
   "source": [
    "n_p = 10\n",
    "p_iters = 30\n",
    "N = 50\n",
    "iters = 200\n",
    "Th = 4\n",
    "Tl = 0.1\n",
    "\n",
    "ps = np.linspace(0,0.2, n_p)\n",
    "m = np.zeros((iters, n_p))\n",
    "ms = np.zeros((iters, n_p))\n",
    "for i in range(0, n_p):\n",
    "    for k in range(0, p_iters):\n",
    "        print(k)\n",
    "        temp_m, temp_ms, lat = anneal(ps[i], N, iters, Th, Tl)\n",
    "        m[:, i] += temp_m\n",
    "        ms[:, i] += temp_ms\n",
    "    m[:, i] /= p_iters\n",
    "    ms[:, i] /= p_iters\n",
    "    clear_output(wait = True)    \n",
    "    print(\"P: \"  + str(ps[i]))\n",
    "    print(\"Magnetization: \" + str(np.mean(m[-1,i])))\n",
    "    print(\"Swagger: \" + str(np.mean(ms[-1,i])))\n",
    "    \n",
    "    "
   ]
  },
  {
   "cell_type": "code",
   "execution_count": 27,
   "metadata": {},
   "outputs": [
    {
     "data": {
      "text/plain": [
       "<matplotlib.lines.Line2D at 0x2287fbb3160>"
      ]
     },
     "execution_count": 27,
     "metadata": {},
     "output_type": "execute_result"
    },
    {
     "data": {
      "image/png": "[encoded data removed]",
      "text/plain": [
       "<matplotlib.figure.Figure at 0x2287fb7ff98>"
      ]
     },
     "metadata": {},
     "output_type": "display_data"
    }
   ],
   "source": [
    "plt.plot(ps, m[-1:,:].mean(axis = 0))\n",
    "plt.plot(ps, ms[-1:,:].mean(axis = 0))\n",
    "plt.axvline(0.12)"
   ]
  },
  {
   "cell_type": "code",
   "execution_count": 456,
   "metadata": {},
   "outputs": [
    {
     "data": {
      "text/plain": [
       "4.0"
      ]
     },
     "execution_count": 456,
     "metadata": {},
     "output_type": "execute_result"
    }
   ],
   "source": [
    "100 / 25 "
   ]
  },
  {
   "cell_type": "code",
   "execution_count": 460,
   "metadata": {},
   "outputs": [
    {
     "data": {
      "text/plain": [
       "array([0.        , 0.02040816, 0.04081633, 0.06122449, 0.08163265,\n",
       "       0.10204082, 0.12244898, 0.14285714, 0.16326531, 0.18367347,\n",
       "       0.20408163, 0.2244898 , 0.24489796, 0.26530612, 0.28571429,\n",
       "       0.30612245, 0.32653061, 0.34693878, 0.36734694, 0.3877551 ,\n",
       "       0.40816327, 0.42857143, 0.44897959, 0.46938776, 0.48979592,\n",
       "       0.51020408, 0.53061224, 0.55102041, 0.57142857, 0.59183673,\n",
       "       0.6122449 , 0.63265306, 0.65306122, 0.67346939, 0.69387755,\n",
       "       0.71428571, 0.73469388, 0.75510204, 0.7755102 , 0.79591837,\n",
       "       0.81632653, 0.83673469, 0.85714286, 0.87755102, 0.89795918,\n",
       "       0.91836735, 0.93877551, 0.95918367, 0.97959184, 1.        ])"
      ]
     },
     "execution_count": 460,
     "metadata": {},
     "output_type": "execute_result"
    }
   ],
   "source": [
    "np.linspace(0, 1, 50)"
   ]
  },
  {
   "cell_type": "code",
   "execution_count": null,
   "metadata": {},
   "outputs": [],
   "source": []
  }
 ],
 "metadata": {
  "kernelspec": {
   "display_name": "Python 3",
   "language": "python",
   "name": "python3"
  },
  "language_info": {
   "codemirror_mode": {
    "name": "ipython",
    "version": 3
   },
   "file_extension": ".py",
   "mimetype": "text/x-python",
   "name": "python",
   "nbconvert_exporter": "python",
   "pygments_lexer": "ipython3",
   "version": "3.6.3"
  }
 },
 "nbformat": 4,
 "nbformat_minor": 2
}
